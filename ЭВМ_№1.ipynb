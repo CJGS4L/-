{
  "cells": [
    {
      "cell_type": "code",
      "execution_count": null,
      "metadata": {
        "colab": {
          "background_save": true,
          "base_uri": "https://localhost:8080/",
          "height": 435
        },
        "id": "UwsfrZGmuMLX",
        "outputId": "a7f59e20-073d-4177-ea94-532770b0d528"
      },
      "outputs": [
        {
          "data": {
            "image/png": "[encoded data removed]",
            "text/plain": [
              "<Figure size 640x480 with 1 Axes>"
            ]
          },
          "metadata": {},
          "output_type": "display_data"
        }
      ],
      "source": [
        "import numpy as np\n",
        "import math\n",
        "import matplotlib.pyplot as plt\n",
        "\n",
        "max_it = 10**4\n",
        "n = 10**3\n",
        "h = 1/n\n",
        "alpha = 1\n",
        "eps = 0.001\n",
        "\n",
        "def jacob(n, u, h, alpha):\n",
        "  J = [0]*(n-1)\n",
        "  for i in range(n-1):\n",
        "    J[i]=[0]*(n-1)\n",
        "  for i in range(1, n):\n",
        "    if i==1:\n",
        "      J[i-1][i-1] = (3*alpha*u[i]**2+alpha+(2/h**2))*h**2\n",
        "      J[i-1][i] = -1\n",
        "    if i==n-2:\n",
        "      J[i][i] = (3*alpha*u[i]**2+alpha+(2/h**2))*h**2\n",
        "      J[i][i-1] = -1\n",
        "    elif(i!=0 and i!=n-1):\n",
        "      J[i][i] = (3*alpha*u[i]**2+alpha+(2/h**2))*h**2\n",
        "      J[i][i-1] = -1\n",
        "      J[i][i+1] = -1\n",
        "  return J\n",
        "\n",
        "def F(u, f, a):\n",
        "  F = [0]*(n-1)\n",
        "  for i in range(1, n):\n",
        "    F[i-1] = -(-(u[i+1]-2*u[i]+u[i-1])+a*h**2*(u[i]**3+u[i])-h**2*f[i])\n",
        "  return F\n",
        "\n",
        "def Solve_SAE(u_0, a, f):\n",
        "  u_1 = u_0\n",
        "  u_2 = [0]*(n+1)\n",
        "  du = [0]*(n+1)\n",
        "  for i in range(max_it):\n",
        "    du_mid = np.linalg.solve(jacob(n, u_1, h, a), F(u_1, f, a))\n",
        "    for i in range(1, n):\n",
        "      du[i] = du_mid[i-1]\n",
        "    #print(du)\n",
        "    for i in range(n+1):\n",
        "      u_2[i] = u_1[i] + du[i]\n",
        "    if np.linalg.norm(du)<eps:\n",
        "      break\n",
        "    for i in range(n+1):\n",
        "      u_1[i] = u_2[i]\n",
        "    #print(\"\\n\")\n",
        "  return u_2\n",
        "\n",
        "u = [0]*(n+1)\n",
        "u[0]=0\n",
        "u[n]=0\n",
        "\n",
        "x = [0]*(n+1)\n",
        "for i in range(n+1):\n",
        "  x[i] = i*h\n",
        "\n",
        "f1 = [0]*(n+1) #массив значений функции правой части\n",
        "for i in range(n+1):\n",
        "  f1[i] = 10*np.sin(5*np.pi*x[i])\n",
        "f2 = [0]*(n+1) #массив значений функции правой части\n",
        "for i in range(n+1):\n",
        "  f2[i] = 10*((x[i]**2-x[i])**3+(x[i]**2-x[i])-2)\n",
        "plt.plot(x, [0]*(n+1))\n",
        "plt.plot(x, Solve_SAE(u, 0, f1))\n",
        "#plt.plot(x, Solve_SAE(u, 1, f2))\n",
        "#for i in range(5):\n",
        "  #plt.plot(x, Solve_SAE(u, 0.5*i, f1))\n",
        "\n",
        "plt.ylim (-1, 1)\n",
        "plt.show()\n"
      ]
    }
  ],
  "metadata": {
    "colab": {
      "provenance": []
    },
    "kernelspec": {
      "display_name": "Python 3",
      "name": "python3"
    },
    "language_info": {
      "name": "python"
    }
  },
  "nbformat": 4,
  "nbformat_minor": 0
}